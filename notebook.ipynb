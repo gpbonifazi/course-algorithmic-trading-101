{
  "nbformat": 4,
  "nbformat_minor": 0,
  "metadata": {
    "colab": {
      "provenance": [],
      "toc_visible": true,
      "collapsed_sections": [
        "AxKsmpBwx5_o"
      ],
      "authorship_tag": "ABX9TyMykdL3jaH+tUACp8IcWPVr",
      "include_colab_link": true
    },
    "kernelspec": {
      "name": "python3",
      "display_name": "Python 3"
    },
    "language_info": {
      "name": "python"
    }
  },
  "cells": [
    {
      "cell_type": "markdown",
      "metadata": {
        "id": "view-in-github",
        "colab_type": "text"
      },
      "source": [
        "<a href=\"https://colab.research.google.com/github/gpbonifazi/course-algorithmic-trading-101/blob/develop/notebook.ipynb\" target=\"_parent\"><img src=\"https://colab.research.google.com/assets/colab-badge.svg\" alt=\"Open In Colab\"/></a>"
      ]
    },
    {
      "cell_type": "markdown",
      "source": [
        "# Intro\n",
        "\n",
        "## Prerequisites\n",
        "\n",
        "<details>\n",
        "  <summary>Click to expand</summary>\n",
        "  \n",
        "  This is the content of Subsection 1.\n",
        "</details>\n",
        "\n",
        "## Goals\n",
        "\n",
        "<details>\n",
        "  <summary>Click to expand</summary>\n",
        "  \n",
        "  This is the content of Subsection 2.\n",
        "</details>"
      ],
      "metadata": {
        "id": "vJxeItNwx1i0"
      }
    },
    {
      "cell_type": "markdown",
      "source": [
        "# Chapter 1"
      ],
      "metadata": {
        "id": "kbu7vSrsCZKv"
      }
    },
    {
      "cell_type": "markdown",
      "source": [
        "## 1.1"
      ],
      "metadata": {
        "id": "AIdGEkFYAwKW"
      }
    },
    {
      "cell_type": "markdown",
      "source": [
        "### 1.1.1"
      ],
      "metadata": {
        "id": "AxKsmpBwx5_o"
      }
    },
    {
      "cell_type": "markdown",
      "source": [],
      "metadata": {
        "id": "WLrgSj5AEqMb"
      }
    },
    {
      "cell_type": "markdown",
      "source": [
        "### 1.1.2"
      ],
      "metadata": {
        "id": "ti7-nRnCErNx"
      }
    },
    {
      "cell_type": "markdown",
      "source": [],
      "metadata": {
        "id": "DgLzhvoqE3rA"
      }
    },
    {
      "cell_type": "markdown",
      "source": [
        "# Chapter 2"
      ],
      "metadata": {
        "id": "GWWfJRyCC1qD"
      }
    }
  ]
}